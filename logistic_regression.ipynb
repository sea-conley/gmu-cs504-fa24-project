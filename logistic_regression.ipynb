{
 "cells": [
  {
   "cell_type": "markdown",
   "metadata": {},
   "source": [
    "# Logistic Regression "
   ]
  },
  {
   "cell_type": "markdown",
   "metadata": {},
   "source": [
    "## Data Exploration/Inspection"
   ]
  },
  {
   "cell_type": "code",
   "execution_count": 80,
   "metadata": {},
   "outputs": [],
   "source": [
    "import pandas as pd\n",
    "\n",
    "data = pd.read_csv('data/COVID-19_Case_Surveillance_Public_Use_Data_with_Geography_20241111.csv')"
   ]
  },
  {
   "cell_type": "code",
   "execution_count": 81,
   "metadata": {},
   "outputs": [
    {
     "data": {
      "text/html": [
       "<div>\n",
       "<style scoped>\n",
       "    .dataframe tbody tr th:only-of-type {\n",
       "        vertical-align: middle;\n",
       "    }\n",
       "\n",
       "    .dataframe tbody tr th {\n",
       "        vertical-align: top;\n",
       "    }\n",
       "\n",
       "    .dataframe thead th {\n",
       "        text-align: right;\n",
       "    }\n",
       "</style>\n",
       "<table border=\"1\" class=\"dataframe\">\n",
       "  <thead>\n",
       "    <tr style=\"text-align: right;\">\n",
       "      <th></th>\n",
       "      <th>case_month</th>\n",
       "      <th>res_state</th>\n",
       "      <th>state_fips_code</th>\n",
       "      <th>res_county</th>\n",
       "      <th>county_fips_code</th>\n",
       "      <th>age_group</th>\n",
       "      <th>sex</th>\n",
       "      <th>race</th>\n",
       "      <th>ethnicity</th>\n",
       "      <th>case_positive_specimen_interval</th>\n",
       "      <th>case_onset_interval</th>\n",
       "      <th>process</th>\n",
       "      <th>exposure_yn</th>\n",
       "      <th>current_status</th>\n",
       "      <th>symptom_status</th>\n",
       "      <th>hosp_yn</th>\n",
       "      <th>icu_yn</th>\n",
       "      <th>death_yn</th>\n",
       "      <th>underlying_conditions_yn</th>\n",
       "    </tr>\n",
       "  </thead>\n",
       "  <tbody>\n",
       "    <tr>\n",
       "      <th>0</th>\n",
       "      <td>2024-06</td>\n",
       "      <td>VA</td>\n",
       "      <td>51</td>\n",
       "      <td>VIRGINIA BEACH CITY</td>\n",
       "      <td>51810.0</td>\n",
       "      <td>65+ years</td>\n",
       "      <td>Female</td>\n",
       "      <td>White</td>\n",
       "      <td>Non-Hispanic/Latino</td>\n",
       "      <td>0.0</td>\n",
       "      <td>0.0</td>\n",
       "      <td>Routine surveillance</td>\n",
       "      <td>Yes</td>\n",
       "      <td>Laboratory-confirmed case</td>\n",
       "      <td>Symptomatic</td>\n",
       "      <td>No</td>\n",
       "      <td>No</td>\n",
       "      <td>No</td>\n",
       "      <td>Yes</td>\n",
       "    </tr>\n",
       "    <tr>\n",
       "      <th>1</th>\n",
       "      <td>2024-06</td>\n",
       "      <td>VA</td>\n",
       "      <td>51</td>\n",
       "      <td>VIRGINIA BEACH CITY</td>\n",
       "      <td>51810.0</td>\n",
       "      <td>65+ years</td>\n",
       "      <td>Female</td>\n",
       "      <td>White</td>\n",
       "      <td>Non-Hispanic/Latino</td>\n",
       "      <td>1.0</td>\n",
       "      <td>0.0</td>\n",
       "      <td>Routine surveillance</td>\n",
       "      <td>Yes</td>\n",
       "      <td>Probable Case</td>\n",
       "      <td>Symptomatic</td>\n",
       "      <td>No</td>\n",
       "      <td>No</td>\n",
       "      <td>No</td>\n",
       "      <td>Yes</td>\n",
       "    </tr>\n",
       "    <tr>\n",
       "      <th>2</th>\n",
       "      <td>2024-06</td>\n",
       "      <td>VA</td>\n",
       "      <td>51</td>\n",
       "      <td>VIRGINIA BEACH CITY</td>\n",
       "      <td>51810.0</td>\n",
       "      <td>65+ years</td>\n",
       "      <td>Female</td>\n",
       "      <td>White</td>\n",
       "      <td>Non-Hispanic/Latino</td>\n",
       "      <td>0.0</td>\n",
       "      <td>0.0</td>\n",
       "      <td>Routine surveillance</td>\n",
       "      <td>Yes</td>\n",
       "      <td>Probable Case</td>\n",
       "      <td>Symptomatic</td>\n",
       "      <td>Yes</td>\n",
       "      <td>No</td>\n",
       "      <td>No</td>\n",
       "      <td>Yes</td>\n",
       "    </tr>\n",
       "    <tr>\n",
       "      <th>3</th>\n",
       "      <td>2024-06</td>\n",
       "      <td>VA</td>\n",
       "      <td>51</td>\n",
       "      <td>VIRGINIA BEACH CITY</td>\n",
       "      <td>51810.0</td>\n",
       "      <td>65+ years</td>\n",
       "      <td>Female</td>\n",
       "      <td>White</td>\n",
       "      <td>Non-Hispanic/Latino</td>\n",
       "      <td>0.0</td>\n",
       "      <td>0.0</td>\n",
       "      <td>Routine surveillance</td>\n",
       "      <td>Yes</td>\n",
       "      <td>Probable Case</td>\n",
       "      <td>Symptomatic</td>\n",
       "      <td>No</td>\n",
       "      <td>No</td>\n",
       "      <td>No</td>\n",
       "      <td>Yes</td>\n",
       "    </tr>\n",
       "    <tr>\n",
       "      <th>4</th>\n",
       "      <td>2024-06</td>\n",
       "      <td>VA</td>\n",
       "      <td>51</td>\n",
       "      <td>VIRGINIA BEACH CITY</td>\n",
       "      <td>51810.0</td>\n",
       "      <td>65+ years</td>\n",
       "      <td>Female</td>\n",
       "      <td>White</td>\n",
       "      <td>Non-Hispanic/Latino</td>\n",
       "      <td>0.0</td>\n",
       "      <td>0.0</td>\n",
       "      <td>Routine surveillance</td>\n",
       "      <td>Yes</td>\n",
       "      <td>Probable Case</td>\n",
       "      <td>Symptomatic</td>\n",
       "      <td>No</td>\n",
       "      <td>No</td>\n",
       "      <td>No</td>\n",
       "      <td>Yes</td>\n",
       "    </tr>\n",
       "  </tbody>\n",
       "</table>\n",
       "</div>"
      ],
      "text/plain": [
       "  case_month res_state  state_fips_code           res_county  \\\n",
       "0    2024-06        VA               51  VIRGINIA BEACH CITY   \n",
       "1    2024-06        VA               51  VIRGINIA BEACH CITY   \n",
       "2    2024-06        VA               51  VIRGINIA BEACH CITY   \n",
       "3    2024-06        VA               51  VIRGINIA BEACH CITY   \n",
       "4    2024-06        VA               51  VIRGINIA BEACH CITY   \n",
       "\n",
       "   county_fips_code  age_group     sex   race            ethnicity  \\\n",
       "0           51810.0  65+ years  Female  White  Non-Hispanic/Latino   \n",
       "1           51810.0  65+ years  Female  White  Non-Hispanic/Latino   \n",
       "2           51810.0  65+ years  Female  White  Non-Hispanic/Latino   \n",
       "3           51810.0  65+ years  Female  White  Non-Hispanic/Latino   \n",
       "4           51810.0  65+ years  Female  White  Non-Hispanic/Latino   \n",
       "\n",
       "   case_positive_specimen_interval  case_onset_interval               process  \\\n",
       "0                              0.0                  0.0  Routine surveillance   \n",
       "1                              1.0                  0.0  Routine surveillance   \n",
       "2                              0.0                  0.0  Routine surveillance   \n",
       "3                              0.0                  0.0  Routine surveillance   \n",
       "4                              0.0                  0.0  Routine surveillance   \n",
       "\n",
       "  exposure_yn             current_status symptom_status hosp_yn icu_yn  \\\n",
       "0         Yes  Laboratory-confirmed case    Symptomatic      No     No   \n",
       "1         Yes              Probable Case    Symptomatic      No     No   \n",
       "2         Yes              Probable Case    Symptomatic     Yes     No   \n",
       "3         Yes              Probable Case    Symptomatic      No     No   \n",
       "4         Yes              Probable Case    Symptomatic      No     No   \n",
       "\n",
       "  death_yn underlying_conditions_yn  \n",
       "0       No                      Yes  \n",
       "1       No                      Yes  \n",
       "2       No                      Yes  \n",
       "3       No                      Yes  \n",
       "4       No                      Yes  "
      ]
     },
     "execution_count": 81,
     "metadata": {},
     "output_type": "execute_result"
    }
   ],
   "source": [
    "data.head(5)"
   ]
  },
  {
   "cell_type": "code",
   "execution_count": 82,
   "metadata": {},
   "outputs": [],
   "source": [
    "categorical_cols = ['state_fips_code', 'county_fips_code', 'age_group',\n",
    "                  'sex', 'race', 'ethnicity', 'process', 'exposure_yn', 'symptom_status',\n",
    "                  'hosp_yn', 'icu_yn', 'underlying_conditions_yn']"
   ]
  },
  {
   "cell_type": "code",
   "execution_count": 83,
   "metadata": {},
   "outputs": [],
   "source": [
    "import textwrap"
   ]
  },
  {
   "cell_type": "code",
   "execution_count": 84,
   "metadata": {},
   "outputs": [],
   "source": [
    "def print_na_count(df, col):\n",
    "    na_count = df[df[col].isna()].shape[0]\n",
    "    print(f'{col} null values: {na_count}')\n"
   ]
  },
  {
   "cell_type": "code",
   "execution_count": 85,
   "metadata": {},
   "outputs": [],
   "source": [
    "def print_unique(df, col):\n",
    "    u = df[col].unique()\n",
    "    print(u.shape)\n",
    "    if u.shape[0] <= 10:\n",
    "        print(u)\n",
    "    else:\n",
    "        print(textwrap.shorten(str(u), width=70, placeholder=\"...\"))"
   ]
  },
  {
   "cell_type": "code",
   "execution_count": 86,
   "metadata": {},
   "outputs": [
    {
     "name": "stdout",
     "output_type": "stream",
     "text": [
      "(30,)\n",
      "[51 39 23 16 55 21 11 41 31 20 32 28 78 12 50 36 2 18 49 42 19 72...\n",
      "state_fips_code null values: 0\n",
      "(464,)\n",
      "[51810. nan 51177. 39049. 23019. 23031. 51087. 51710. 23005. 39139....\n",
      "county_fips_code null values: 11756\n",
      "(4,)\n",
      "['65+ years' '18 to 49 years' '50 to 64 years' '0 - 17 years']\n",
      "age_group null values: 0\n",
      "(2,)\n",
      "['Female' 'Male']\n",
      "sex null values: 0\n",
      "(6,)\n",
      "['White' 'Black' 'Multiple/Other' 'Asian' 'American Indian/Alaska Native'\n",
      " 'Native Hawaiian/Other Pacific Islander']\n",
      "race null values: 0\n",
      "(2,)\n",
      "['Non-Hispanic/Latino' 'Hispanic/Latino']\n",
      "ethnicity null values: 0\n",
      "(9,)\n",
      "['Routine surveillance' 'Laboratory reported' 'Provider reported'\n",
      " 'Clinical evaluation' 'Multiple' 'Other'\n",
      " 'Contact tracing of case patient' 'Routine physical examination'\n",
      " 'Autopsy']\n",
      "process null values: 0\n",
      "(1,)\n",
      "['Yes']\n",
      "exposure_yn null values: 0\n",
      "(2,)\n",
      "['Symptomatic' 'Asymptomatic']\n",
      "symptom_status null values: 0\n",
      "(2,)\n",
      "['No' 'Yes']\n",
      "hosp_yn null values: 0\n",
      "(2,)\n",
      "['No' 'Yes']\n",
      "icu_yn null values: 0\n",
      "(2,)\n",
      "['Yes' 'No']\n",
      "underlying_conditions_yn null values: 0\n"
     ]
    }
   ],
   "source": [
    "for col in categorical_cols:\n",
    "    print_unique(data, col)\n",
    "    print_na_count(data, col)"
   ]
  },
  {
   "cell_type": "markdown",
   "metadata": {},
   "source": [
    "County fips code seems to be the only categorical column with nulls"
   ]
  },
  {
   "cell_type": "markdown",
   "metadata": {},
   "source": [
    "## One Hot Encoding"
   ]
  },
  {
   "cell_type": "code",
   "execution_count": 87,
   "metadata": {},
   "outputs": [],
   "source": [
    "import numpy as np\n",
    "from sklearn.preprocessing import OneHotEncoder\n",
    "from sklearn.compose import ColumnTransformer"
   ]
  },
  {
   "cell_type": "code",
   "execution_count": 88,
   "metadata": {},
   "outputs": [],
   "source": [
    "np.random.seed(777)"
   ]
  },
  {
   "cell_type": "code",
   "execution_count": 89,
   "metadata": {},
   "outputs": [
    {
     "name": "stdout",
     "output_type": "stream",
     "text": [
      "(175407, 533)\n"
     ]
    }
   ],
   "source": [
    "encoder = OneHotEncoder(sparse_output=False)\n",
    "ct = ColumnTransformer(\n",
    "    transformers=[\n",
    "        ('onehot', encoder, categorical_cols)\n",
    "    ],\n",
    "    remainder='passthrough'  # Keep other columns as is\n",
    ")\n",
    "transformed_array = ct.fit_transform(data)\n",
    "print(transformed_array.shape)"
   ]
  },
  {
   "cell_type": "markdown",
   "metadata": {},
   "source": [
    "categorical columns are now 533 one hot columns"
   ]
  },
  {
   "cell_type": "code",
   "execution_count": 90,
   "metadata": {},
   "outputs": [
    {
     "name": "stdout",
     "output_type": "stream",
     "text": [
      "onehot (526,) + numeric (7,) = all (533,)\n",
      "random one hot features:\n",
      "['county_fips_code_19027.0' 'county_fips_code_18039.0'\n",
      " 'county_fips_code_19127.0' 'county_fips_code_51085.0'\n",
      " 'ethnicity_Hispanic/Latino' 'county_fips_code_39051.0'\n",
      " 'county_fips_code_50021.0' 'county_fips_code_8013.0'\n",
      " 'county_fips_code_39105.0' 'county_fips_code_39151.0']\n"
     ]
    }
   ],
   "source": [
    "onehot_features = ct.named_transformers_['onehot'].get_feature_names_out(categorical_cols)\n",
    "numeric_features = data.columns.difference(categorical_cols)\n",
    "all_features = np.concatenate([onehot_features, numeric_features])\n",
    "\n",
    "print(f'onehot {onehot_features.shape} + numeric {numeric_features.shape} = all {all_features.shape}')\n",
    "print('random one hot features:')\n",
    "print(onehot_features[np.random.randint(0, onehot_features.shape[0], size=(10))])"
   ]
  },
  {
   "cell_type": "code",
   "execution_count": 95,
   "metadata": {},
   "outputs": [],
   "source": [
    "transformed_data = pd.DataFrame(\n",
    "    transformed_array,\n",
    "    columns=all_features\n",
    ")"
   ]
  }
 ],
 "metadata": {
  "kernelspec": {
   "display_name": "gmu-cs504",
   "language": "python",
   "name": "python3"
  },
  "language_info": {
   "codemirror_mode": {
    "name": "ipython",
    "version": 3
   },
   "file_extension": ".py",
   "mimetype": "text/x-python",
   "name": "python",
   "nbconvert_exporter": "python",
   "pygments_lexer": "ipython3",
   "version": "3.12.7"
  }
 },
 "nbformat": 4,
 "nbformat_minor": 2
}
