{
 "cells": [
  {
   "cell_type": "markdown",
   "metadata": {},
   "source": [
    "This is using the full dataset"
   ]
  },
  {
   "cell_type": "code",
   "execution_count": null,
   "metadata": {},
   "outputs": [],
   "source": [
    "import os \n",
    "import pandas as pd "
   ]
  },
  {
   "cell_type": "code",
   "execution_count": 3,
   "metadata": {},
   "outputs": [
    {
     "name": "stderr",
     "output_type": "stream",
     "text": [
      "/var/folders/fz/flsbh29n6t9gy_hn9fsmrggc0000gn/T/ipykernel_7745/2472545577.py:1: DtypeWarning: Columns (3,18) have mixed types. Specify dtype option on import or set low_memory=False.\n",
      "  df = pd.read_csv(\"data/COVID-19_Case_Surveillance_Public_Use_Data_with_Geography_20241201.csv\")\n"
     ]
    }
   ],
   "source": [
    "df = pd.read_csv(\"data/COVID-19_Case_Surveillance_Public_Use_Data_with_Geography_20241201.csv\") \n",
    "\n",
    "#Sort and display states based on total number of patients.  \n",
    "df_sorted = df.sort_values(by=\"res_state\") "
   ]
  },
  {
   "cell_type": "code",
   "execution_count": 4,
   "metadata": {},
   "outputs": [],
   "source": [
    "df.to_pickle('data/covid_geo_full_dataset.pkl')"
   ]
  },
  {
   "cell_type": "code",
   "execution_count": 5,
   "metadata": {},
   "outputs": [
    {
     "name": "stdout",
     "output_type": "stream",
     "text": [
      "   res_state     total\n",
      "0         CA  12864657\n",
      "1         TX   9554165\n",
      "2         NY   7696174\n",
      "3         FL   6204105\n",
      "4         IL   4429481\n",
      "5         PA   3799264\n",
      "6         OH   3757055\n",
      "7         NC   3550641\n",
      "8         NJ   3395489\n",
      "9         MI   3169046\n",
      "10        GA   2838006\n",
      "11        TN   2682413\n",
      "12        AZ   2631865\n",
      "13        VA   2538451\n",
      "14        MA   2398384\n",
      "15        IN   2212969\n",
      "16        WA   2081538\n",
      "17        SC   2080443\n",
      "18        MN   1907977\n",
      "19        MO   1900012\n",
      "20        CO   1883701\n",
      "21        WI   1871712\n",
      "22        KY   1823581\n",
      "23        AL   1821390\n",
      "24        MD   1795718\n",
      "25        LA   1685873\n",
      "26        UT   1145002\n",
      "27        AR   1073292\n",
      "28        OR    977827\n",
      "29        KS    952331\n",
      "30        NV    946280\n",
      "31        MS    905786\n",
      "32        OK    772593\n",
      "33        NM    739235\n",
      "34        CT    728386\n",
      "35        ID    538691\n",
      "36        NE    533568\n",
      "37        IA    503775\n",
      "38        NH    383194\n",
      "39        RI    364740\n",
      "40        ME    347821\n",
      "41        DE    344477\n",
      "42        HI    339481\n",
      "43        SD    322224\n",
      "44        AK    312703\n",
      "45        ND    310762\n",
      "46        MT    274246\n",
      "47        PR    200956\n",
      "48        WY    196695\n",
      "49        DC    184775\n",
      "50        VT    151392\n",
      "51        GU     55552\n",
      "52        VI     25262\n",
      "53        WV     11041\n",
      "54        MP      1438\n"
     ]
    }
   ],
   "source": [
    "# Group by 'res_state' and count the total for each state \n",
    "state_totals = df_sorted[\"res_state\"].value_counts() \n",
    "\n",
    "# Convert to DataFrame for better visualization \n",
    "state_totals_df = state_totals.reset_index() \n",
    "state_totals_df.columns = [\"res_state\", \"total\"] \n",
    "\n",
    "# Display the totals \n",
    "print(state_totals_df) "
   ]
  },
  {
   "cell_type": "code",
   "execution_count": 6,
   "metadata": {},
   "outputs": [
    {
     "name": "stdout",
     "output_type": "stream",
     "text": [
      "   res_state     total\n",
      "0         CA  12864647\n",
      "1         TX   9554136\n",
      "2         NY   7696165\n",
      "3         FL   6204093\n",
      "4         IL   4429471\n",
      "5         PA   3799263\n",
      "6         OH   3551091\n",
      "7         NC   3550633\n",
      "8         NJ   3395484\n",
      "9         MI   3169044\n",
      "10        GA   2838004\n",
      "11        TN   2682410\n",
      "12        AZ   2631861\n",
      "13        VA   2464886\n",
      "14        MA   2398383\n",
      "15        IN   2211192\n",
      "16        WA   2081536\n",
      "17        SC   2080443\n",
      "18        MN   1907974\n",
      "19        MO   1899865\n",
      "20        CO   1882751\n",
      "21        WI   1871049\n",
      "22        AL   1821388\n",
      "23        KY   1819070\n",
      "24        MD   1795717\n",
      "25        LA   1685781\n",
      "26        UT   1096125\n",
      "27        AR   1073285\n",
      "28        OR    969986\n",
      "29        NV    944796\n",
      "30        MS    904552\n",
      "31        KS    846624\n",
      "32        OK    772570\n",
      "33        NM    739234\n",
      "34        CT    728386\n",
      "35        ID    537510\n",
      "36        NE    533542\n",
      "37        IA    480021\n",
      "38        NH    383194\n",
      "39        RI    364740\n",
      "40        ME    344562\n",
      "41        DE    344475\n",
      "42        HI    339480\n",
      "43        SD    322224\n",
      "44        AK    312452\n",
      "45        ND    310762\n",
      "46        MT    274245\n",
      "47        PR    200872\n",
      "48        WY    196694\n",
      "49        DC    183243\n",
      "50        VT    151295\n",
      "51        GU     55497\n",
      "52        VI     25179\n",
      "53        WV     11040\n",
      "54        MP      1407\n"
     ]
    }
   ],
   "source": [
    "# Filter data to find all missing or unknown values.  \n",
    "missing_df = df[df.apply(lambda row: row.astype(str).str.contains(\"Missing|Unknown\", case=False, na=False).any(), axis=1)] \n",
    "\n",
    "# Sort and display the top states again based on the new filtered dataset.  \n",
    "df_sorted = missing_df.sort_values(by=\"res_state\") \n",
    "\n",
    "# Group by 'res_state' and count the total for each state \n",
    "state_totals = df_sorted[\"res_state\"].value_counts() \n",
    "\n",
    "# Convert to DataFrame for better visualization \n",
    "state_totals_df = state_totals.reset_index() \n",
    "state_totals_df.columns = [\"res_state\", \"total\"] \n",
    "\n",
    "# Display the totals \n",
    "print(state_totals_df) "
   ]
  },
  {
   "cell_type": "code",
   "execution_count": 7,
   "metadata": {},
   "outputs": [],
   "source": [
    "state_totals_df.to_pickle('data/missing_data_counts_full_dataset.pkl')"
   ]
  }
 ],
 "metadata": {
  "kernelspec": {
   "display_name": "gmu-cs504",
   "language": "python",
   "name": "python3"
  },
  "language_info": {
   "codemirror_mode": {
    "name": "ipython",
    "version": 3
   },
   "file_extension": ".py",
   "mimetype": "text/x-python",
   "name": "python",
   "nbconvert_exporter": "python",
   "pygments_lexer": "ipython3",
   "version": "3.12.7"
  }
 },
 "nbformat": 4,
 "nbformat_minor": 2
}
